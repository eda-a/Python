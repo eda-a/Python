{
 "cells": [
  {
   "cell_type": "code",
   "execution_count": 3,
   "metadata": {
    "collapsed": true
   },
   "outputs": [],
   "source": [
    "import numpy as np"
   ]
  },
  {
   "cell_type": "markdown",
   "metadata": {},
   "source": [
    "## Task 1\n",
    "\n",
    "Task: Create a vector of size 10 with values ranging from 0 to 1, both excluded. Print the vector.\n",
    "\n",
    "Approach: use the generator function linspace \n",
    "\n",
    "See: https://docs.scipy.org/doc/numpy/reference/generated/numpy.linspace.html"
   ]
  },
  {
   "cell_type": "code",
   "execution_count": 11,
   "metadata": {},
   "outputs": [
    {
     "name": "stdout",
     "output_type": "stream",
     "text": [
      "[0.         0.11111111 0.22222222 0.33333333 0.44444444 0.55555556\n",
      " 0.66666667 0.77777778 0.88888889 1.        ]\n",
      "-----------------------\n",
      "[0.         0.09090909 0.18181818 0.27272727 0.36363636 0.45454545\n",
      " 0.54545455 0.63636364 0.72727273 0.81818182 0.90909091 1.        ]\n",
      "-----------------------\n",
      "[0.09090909 0.18181818 0.27272727 0.36363636 0.45454545 0.54545455\n",
      " 0.63636364 0.72727273 0.81818182 0.90909091]\n",
      "-----------------------\n",
      "[0.         0.09090909 0.18181818 0.27272727 0.36363636 0.45454545\n",
      " 0.54545455 0.63636364 0.72727273 0.81818182 0.90909091]\n",
      "-----------------------\n",
      "[0.09090909 0.18181818 0.27272727 0.36363636 0.45454545 0.54545455\n",
      " 0.63636364 0.72727273 0.81818182 0.90909091]\n"
     ]
    }
   ],
   "source": [
    "# we'll use the generator function linspace\n",
    "a = np.linspace(0, 1, 10)  # start and stop are by default included\n",
    "\n",
    "print(a)\n",
    "print(\"-----------------------\")\n",
    "\n",
    "b = np.linspace(0, 1, 12)  # start and stop are by default included\n",
    "print(b)\n",
    "print(\"-----------------------\")\n",
    "\n",
    "c = b[1:-1]\n",
    "print(c)\n",
    "print(\"-----------------------\")\n",
    "\n",
    "d = np.linspace(0, 1, 11, endpoint=False )\n",
    "print(d)\n",
    "\n",
    "print(\"-----------------------\")\n",
    "e = d[1:]\n",
    "print(e)"
   ]
  },
  {
   "cell_type": "markdown",
   "metadata": {},
   "source": [
    "## Task 2\n",
    "Task: Create a random vector of size 10 and sort it in place. Print the vector before and after sorting\n",
    "\n",
    "Approach: use np.random and the array-method sort()\n",
    "\n",
    "See: https://docs.scipy.org/doc/numpy-1.14.2/reference/generated/numpy.ndarray.sort.html#numpy.ndarray.sort"
   ]
  },
  {
   "cell_type": "code",
   "execution_count": 33,
   "metadata": {},
   "outputs": [
    {
     "name": "stdout",
     "output_type": "stream",
     "text": [
      "Before sort (a):[0.22947736 0.95587172 0.21298876 0.4630656  0.33599435 0.69805888\n",
      " 0.30336094 0.25053201 0.02254588 0.87873958]\n",
      "After np.sort (b):[0.02254588 0.21298876 0.22947736 0.25053201 0.30336094 0.33599435\n",
      " 0.4630656  0.69805888 0.87873958 0.95587172]\n",
      "After np.sort (a):[0.22947736 0.95587172 0.21298876 0.4630656  0.33599435 0.69805888\n",
      " 0.30336094 0.25053201 0.02254588 0.87873958]\n",
      "After ndarray-method sort (a):[0.02254588 0.21298876 0.22947736 0.25053201 0.30336094 0.33599435\n",
      " 0.4630656  0.69805888 0.87873958 0.95587172]\n"
     ]
    }
   ],
   "source": [
    "a = np.random.rand(10)\n",
    "print(\"Before sort (a):{}\".format(a))\n",
    "b = np.sort(a)  # if you use np.sort you get a copy and not an in-place sorting!\n",
    "print(\"After np.sort (b):{}\".format(b))\n",
    "print(\"After np.sort (a):{}\".format(a))\n",
    "\n",
    "a.sort()\n",
    "print(\"After ndarray-method sort (a):{}\".format(a))\n"
   ]
  },
  {
   "cell_type": "markdown",
   "metadata": {},
   "source": [
    "## Task 3\n",
    "Tasks: Create two random NumPy-arrays A and B with values drawn from 0 and 1 and length 5 (use randint).\n",
    "Check if the arrays are equal (i.e. all elements are equal). Also check if at least one element is equal.\n",
    "\n",
    "Approach: use randint and the all-operator\n",
    "\n",
    "See https://docs.scipy.org/doc/numpy/reference/generated/numpy.random.randint.html"
   ]
  },
  {
   "cell_type": "code",
   "execution_count": 115,
   "metadata": {},
   "outputs": [
    {
     "name": "stdout",
     "output_type": "stream",
     "text": [
      "0\n",
      "8\n",
      "[7 8 6]\n"
     ]
    }
   ],
   "source": [
    "# get to knwo the randint\n",
    "print(np.random.randint(10))  # draw a random number between 0 and 9\n",
    "print(np.random.randint(5, 10)) # draw a random number between 5 and 9\n",
    "print(np.random.randint(5, 10, 3)) # draw three times a random number between 5 and 9 and put them into an ndarray"
   ]
  },
  {
   "cell_type": "code",
   "execution_count": 201,
   "metadata": {},
   "outputs": [
    {
     "name": "stdout",
     "output_type": "stream",
     "text": [
      "[0 1 0]\n",
      "[0 1 1]\n",
      "[ True  True False]\n",
      "False\n",
      "True\n"
     ]
    }
   ],
   "source": [
    "a = np.random.randint(0, 2, 3)\n",
    "b = np.random.randint(0, 2, 3)\n",
    "print(a)\n",
    "print(b)\n",
    "\n",
    "comparison = a == b\n",
    "print(comparison)\n",
    "print(all(comparison))\n",
    "print(any(comparison))"
   ]
  }
 ],
 "metadata": {
  "kernelspec": {
   "display_name": "Python 3",
   "language": "python",
   "name": "python3"
  },
  "language_info": {
   "codemirror_mode": {
    "name": "ipython",
    "version": 3
   },
   "file_extension": ".py",
   "mimetype": "text/x-python",
   "name": "python",
   "nbconvert_exporter": "python",
   "pygments_lexer": "ipython3",
   "version": "3.6.1"
  }
 },
 "nbformat": 4,
 "nbformat_minor": 2
}
