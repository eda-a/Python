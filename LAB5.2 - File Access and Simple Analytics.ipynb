{
 "cells": [
  {
   "cell_type": "code",
   "execution_count": 1,
   "metadata": {
    "collapsed": true
   },
   "outputs": [],
   "source": [
    "# create the file\n",
    "f = open('sales.txt', 'w')\n",
    "f.write('5\\n10\\n15')\n",
    "f.close()"
   ]
  },
  {
   "cell_type": "code",
   "execution_count": 10,
   "metadata": {},
   "outputs": [
    {
     "name": "stdout",
     "output_type": "stream",
     "text": [
      "30.0\n"
     ]
    }
   ],
   "source": [
    "f = open('sales.txt', 'r')\n",
    "\n",
    "# There are four distinct numeric types: \n",
    "# plain integers, long integers, floating point numbers, and complex numbers\n",
    "# --> we check if the line can be converted to a float (integers can also be represented by floats)\n",
    "# if not, we raise the value error (either implicitly by using the float-casting or explicitly)\n",
    "\n",
    "# implicit version: this has the disadvantage, that we do not close the file in case of an exception!\n",
    "sum = 0\n",
    "\n",
    "for line in f:\n",
    "    elem = float(line)\n",
    "    sum += elem\n",
    "    \n",
    "print(sum)\n",
    "f.close()"
   ]
  },
  {
   "cell_type": "code",
   "execution_count": 7,
   "metadata": {},
   "outputs": [
    {
     "name": "stdout",
     "output_type": "stream",
     "text": [
      "Summe: 30\n"
     ]
    }
   ],
   "source": [
    "# read the file and calculate the sum\n",
    "f = open('sales.txt', 'r')\n",
    "sum = 0\n",
    "for line in f:\n",
    "    sum += int(line)  # float(line)\n",
    "\n",
    "print(\"Summe: {}\".format(sum))\n",
    "f.close()"
   ]
  },
  {
   "cell_type": "code",
   "execution_count": 9,
   "metadata": {},
   "outputs": [
    {
     "name": "stdout",
     "output_type": "stream",
     "text": [
      "Could not parse line due to ValueError: 'invalid literal for int() with base 10: 'Hello\\n''\n",
      "Summe: 20\n"
     ]
    }
   ],
   "source": [
    "# check if you can handle lines other than numbers\n",
    "f = open('sales_error.txt', 'r')\n",
    "sum = 0\n",
    "for line in f:\n",
    "    try:\n",
    "        sum += int(line)  # float(line)\n",
    "    except ValueError as e:\n",
    "        print(\"Could not parse line due to ValueError: '{}'\".format(e))\n",
    "    except Error as e:\n",
    "        print(\"Could not parse line due to general Error: '{}'\".format(e))\n",
    "\n",
    "print(\"Summe: {}\".format(sum))\n",
    "f.close()"
   ]
  }
 ],
 "metadata": {
  "kernelspec": {
   "display_name": "Python 3",
   "language": "python",
   "name": "python3"
  },
  "language_info": {
   "codemirror_mode": {
    "name": "ipython",
    "version": 3
   },
   "file_extension": ".py",
   "mimetype": "text/x-python",
   "name": "python",
   "nbconvert_exporter": "python",
   "pygments_lexer": "ipython3",
   "version": "3.6.1"
  }
 },
 "nbformat": 4,
 "nbformat_minor": 2
}
