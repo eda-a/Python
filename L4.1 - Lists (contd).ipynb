{
 "cells": [
  {
   "cell_type": "code",
   "execution_count": 2,
   "metadata": {},
   "outputs": [
    {
     "data": {
      "text/plain": [
       "1"
      ]
     },
     "execution_count": 2,
     "metadata": {},
     "output_type": "execute_result"
    }
   ],
   "source": [
    "# find index of an element (first match)\n",
    "color_list=[\"Red\", \"Blue\", \"Blue\", \"Green\", \"Black\"]\n",
    "\n",
    "color_list.index(\"Blue\")"
   ]
  },
  {
   "cell_type": "code",
   "execution_count": 13,
   "metadata": {},
   "outputs": [
    {
     "data": {
      "text/plain": [
       "2"
      ]
     },
     "execution_count": 13,
     "metadata": {},
     "output_type": "execute_result"
    }
   ],
   "source": [
    "# find number of matches\n",
    "color_list=[\"Red\", \"Blue\", \"Blue\", \"Green\", \"Black\"]\n",
    "\n",
    "color_list.count(\"Blue\")"
   ]
  },
  {
   "cell_type": "code",
   "execution_count": 7,
   "metadata": {},
   "outputs": [
    {
     "name": "stdout",
     "output_type": "stream",
     "text": [
      "Sorted list: ['Black', 'Blue', 'Blue', 'Green', 'Red']\n",
      "Original list: ['Red', 'Blue', 'Blue', 'Green', 'Black']\n"
     ]
    }
   ],
   "source": [
    "# sorting (not in-place)\n",
    "print(\"Sorted list: \" + str(sorted(color_list)))\n",
    "print(\"Original list: \" + str(color_list))"
   ]
  },
  {
   "cell_type": "code",
   "execution_count": 10,
   "metadata": {},
   "outputs": [
    {
     "name": "stdout",
     "output_type": "stream",
     "text": [
      "Before .sort: ['Red', 'Green', 'Blue', 'Blue', 'Black']\n",
      "After .sort: ['Black', 'Blue', 'Blue', 'Green', 'Red']\n"
     ]
    }
   ],
   "source": [
    "# sorting (in-place)\n",
    "print(\"Before .sort: \" + str(color_list))\n",
    "color_list.sort()\n",
    "print(\"After .sort: \" + str(color_list))"
   ]
  },
  {
   "cell_type": "code",
   "execution_count": 23,
   "metadata": {},
   "outputs": [
    {
     "data": {
      "text/plain": [
       "['Black', 'Green', 'Blue', 'Blue', 'Red']"
      ]
     },
     "execution_count": 23,
     "metadata": {},
     "output_type": "execute_result"
    }
   ],
   "source": [
    "# invert list\n",
    "color_list.reverse()\n",
    "color_list"
   ]
  },
  {
   "cell_type": "code",
   "execution_count": 27,
   "metadata": {},
   "outputs": [
    {
     "name": "stdout",
     "output_type": "stream",
     "text": [
      "2110324212360\n",
      "2110326006344\n",
      "['Black', 'Green', 'Blue', 'Blue', 'Red']\n",
      "['Black', 'Green', 'Blue', 'Blue', 'Red']\n"
     ]
    }
   ],
   "source": [
    "# shallow copy\n",
    "color_list_2 = color_list.copy()\n",
    "\n",
    "# these are different objects\n",
    "print(id(color_list))\n",
    "print(id(color_list_2))\n",
    "\n",
    "# with the same content\n",
    "print(color_list)\n",
    "print(color_list_2)"
   ]
  },
  {
   "cell_type": "code",
   "execution_count": 31,
   "metadata": {},
   "outputs": [
    {
     "data": {
      "text/plain": [
       "True"
      ]
     },
     "execution_count": 31,
     "metadata": {},
     "output_type": "execute_result"
    }
   ],
   "source": [
    "# comparing lists\n",
    "\n",
    "# Option 1: logical comparison\n",
    "# do all elements of the list have the same values?\n",
    "color_list == color_list_2"
   ]
  },
  {
   "cell_type": "code",
   "execution_count": 37,
   "metadata": {},
   "outputs": [
    {
     "name": "stdout",
     "output_type": "stream",
     "text": [
      "2110324212360\n",
      "2110326006344\n",
      "both point to different objects\n",
      "False\n",
      "False\n"
     ]
    }
   ],
   "source": [
    "# Option 2: Object comparison\n",
    "# do both variables point to the same object (=list)\n",
    "print(id(color_list))\n",
    "print(id(color_list_2))\n",
    "\n",
    "if (id(color_list) == id(color_list_2)):\n",
    "    print(\"both point to the same object\")\n",
    "else:\n",
    "    print(\"both point to different objects\")\n",
    "\n",
    "\n",
    "print(id(color_list) == id(color_list_2))\n",
    "\n",
    "# this is the most elegant way\n",
    "print(color_list is color_list_2)"
   ]
  },
  {
   "cell_type": "code",
   "execution_count": 42,
   "metadata": {},
   "outputs": [
    {
     "data": {
      "text/plain": [
       "[5, 3]"
      ]
     },
     "execution_count": 42,
     "metadata": {},
     "output_type": "execute_result"
    }
   ],
   "source": [
    "# double colon usage for slicing\n",
    "listx=[1, 5, 7, 3, 2, 4, 6]\n",
    "listx[1:5:2] "
   ]
  },
  {
   "cell_type": "code",
   "execution_count": 43,
   "metadata": {},
   "outputs": [
    {
     "data": {
      "text/plain": [
       "[1, 7, 2, 6]"
      ]
     },
     "execution_count": 43,
     "metadata": {},
     "output_type": "execute_result"
    }
   ],
   "source": [
    "listx[::2]"
   ]
  },
  {
   "cell_type": "code",
   "execution_count": 44,
   "metadata": {},
   "outputs": [
    {
     "data": {
      "text/plain": [
       "[1, 3, 6]"
      ]
     },
     "execution_count": 44,
     "metadata": {},
     "output_type": "execute_result"
    }
   ],
   "source": [
    "listx[::3]"
   ]
  },
  {
   "cell_type": "code",
   "execution_count": 45,
   "metadata": {},
   "outputs": [
    {
     "data": {
      "text/plain": [
       "[6, 2]"
      ]
     },
     "execution_count": 45,
     "metadata": {},
     "output_type": "execute_result"
    }
   ],
   "source": [
    "listx[6:2:-2]"
   ]
  },
  {
   "cell_type": "code",
   "execution_count": 46,
   "metadata": {},
   "outputs": [
    {
     "data": {
      "text/plain": [
       "25"
      ]
     },
     "execution_count": 46,
     "metadata": {},
     "output_type": "execute_result"
    }
   ],
   "source": [
    "# largest and smallest item\n",
    "listx=[5, 10, 3, 25, 7, 4, 15]\n",
    "\n",
    "max(listx)"
   ]
  },
  {
   "cell_type": "code",
   "execution_count": 47,
   "metadata": {},
   "outputs": [
    {
     "data": {
      "text/plain": [
       "3"
      ]
     },
     "execution_count": 47,
     "metadata": {},
     "output_type": "execute_result"
    }
   ],
   "source": [
    "min(listx)"
   ]
  },
  {
   "cell_type": "code",
   "execution_count": 50,
   "metadata": {
    "collapsed": true
   },
   "outputs": [],
   "source": [
    "# list comparison\n",
    "listx1, listx2 = [3, 5, 7, 9], [3, 5, 7, 9]\n",
    "\n",
    "# this is the same as\n",
    "listx1 = [3, 5, 7, 9]\n",
    "listx2 = [3, 5, 7, 9]\n"
   ]
  },
  {
   "cell_type": "code",
   "execution_count": 61,
   "metadata": {},
   "outputs": [
    {
     "data": {
      "text/plain": [
       "False"
      ]
     },
     "execution_count": 61,
     "metadata": {},
     "output_type": "execute_result"
    }
   ],
   "source": [
    "listx1 == listx2"
   ]
  },
  {
   "cell_type": "code",
   "execution_count": 63,
   "metadata": {},
   "outputs": [
    {
     "data": {
      "text/plain": [
       "15"
      ]
     },
     "execution_count": 63,
     "metadata": {},
     "output_type": "execute_result"
    }
   ],
   "source": [
    "# stack functions\n",
    "listx=[5, 10, 3, 25, 7, 4, 15]\n",
    "listx.pop()"
   ]
  },
  {
   "cell_type": "code",
   "execution_count": 64,
   "metadata": {},
   "outputs": [
    {
     "data": {
      "text/plain": [
       "[5, 10, 3, 25, 7, 4]"
      ]
     },
     "execution_count": 64,
     "metadata": {},
     "output_type": "execute_result"
    }
   ],
   "source": [
    "listx"
   ]
  },
  {
   "cell_type": "code",
   "execution_count": 65,
   "metadata": {},
   "outputs": [
    {
     "data": {
      "text/plain": [
       "[5, 10, 3, 25, 7, 4, 150]"
      ]
     },
     "execution_count": 65,
     "metadata": {},
     "output_type": "execute_result"
    }
   ],
   "source": [
    "# append\n",
    "listx.append(150)\n",
    "listx"
   ]
  },
  {
   "cell_type": "code",
   "execution_count": 66,
   "metadata": {},
   "outputs": [
    {
     "name": "stdout",
     "output_type": "stream",
     "text": [
      "deque(['Red', 'Blue', 'Green', 'Black', 'White'])\n",
      "deque(['Red', 'Blue', 'Green', 'Black', 'White', 'Yellow'])\n"
     ]
    },
    {
     "data": {
      "text/plain": [
       "'Red'"
      ]
     },
     "execution_count": 66,
     "metadata": {},
     "output_type": "execute_result"
    }
   ],
   "source": [
    "# double ended queue\n",
    "from collections import deque\n",
    "color_list = deque([\"Red\", \"Blue\", \"Green\", \"Black\"])\n",
    "color_list.append(\"White\")      # White arrive\n",
    "print(color_list)\n",
    "deque(['Red', 'Blue', 'Green', 'Black', 'White'])\n",
    "color_list.append(\"Yellow\")     # Yellow arrive\n",
    "print(color_list)\n",
    "deque(['Red', 'Blue', 'Green', 'Black', 'White', 'Yellow'])\n",
    "color_list.popleft()   "
   ]
  }
 ],
 "metadata": {
  "kernelspec": {
   "display_name": "Python 3",
   "language": "python",
   "name": "python3"
  },
  "language_info": {
   "codemirror_mode": {
    "name": "ipython",
    "version": 3
   },
   "file_extension": ".py",
   "mimetype": "text/x-python",
   "name": "python",
   "nbconvert_exporter": "python",
   "pygments_lexer": "ipython3",
   "version": "3.6.1"
  }
 },
 "nbformat": 4,
 "nbformat_minor": 2
}
