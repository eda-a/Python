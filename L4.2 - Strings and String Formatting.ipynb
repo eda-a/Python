{
 "cells": [
  {
   "cell_type": "code",
   "execution_count": 7,
   "metadata": {
    "collapsed": true
   },
   "outputs": [],
   "source": [
    "a = \"abcdef\""
   ]
  },
  {
   "cell_type": "code",
   "execution_count": 2,
   "metadata": {},
   "outputs": [
    {
     "data": {
      "text/plain": [
       "'abc'"
      ]
     },
     "execution_count": 2,
     "metadata": {},
     "output_type": "execute_result"
    }
   ],
   "source": [
    "a"
   ]
  },
  {
   "cell_type": "code",
   "execution_count": 3,
   "metadata": {},
   "outputs": [
    {
     "data": {
      "text/plain": [
       "'a'"
      ]
     },
     "execution_count": 3,
     "metadata": {},
     "output_type": "execute_result"
    }
   ],
   "source": [
    "# accessing strings via the index\n",
    "a[0]"
   ]
  },
  {
   "cell_type": "code",
   "execution_count": 5,
   "metadata": {},
   "outputs": [
    {
     "data": {
      "text/plain": [
       "'b'"
      ]
     },
     "execution_count": 5,
     "metadata": {},
     "output_type": "execute_result"
    }
   ],
   "source": [
    "# first letter\n",
    "a[1]"
   ]
  },
  {
   "cell_type": "code",
   "execution_count": 8,
   "metadata": {},
   "outputs": [
    {
     "data": {
      "text/plain": [
       "'f'"
      ]
     },
     "execution_count": 8,
     "metadata": {},
     "output_type": "execute_result"
    }
   ],
   "source": [
    "# last letter\n",
    "a[-1]"
   ]
  },
  {
   "cell_type": "code",
   "execution_count": 11,
   "metadata": {},
   "outputs": [
    {
     "name": "stdout",
     "output_type": "stream",
     "text": [
      "bcd\n",
      "ac\n"
     ]
    }
   ],
   "source": [
    "# (double) colon operator\n",
    "print(a[1:4])\n",
    "print(a[0:4:2])"
   ]
  },
  {
   "cell_type": "code",
   "execution_count": 10,
   "metadata": {},
   "outputs": [
    {
     "ename": "TypeError",
     "evalue": "'str' object does not support item assignment",
     "output_type": "error",
     "traceback": [
      "\u001b[1;31m---------------------------------------------------------------------------\u001b[0m",
      "\u001b[1;31mTypeError\u001b[0m                                 Traceback (most recent call last)",
      "\u001b[1;32m<ipython-input-10-b1c58921a9e7>\u001b[0m in \u001b[0;36m<module>\u001b[1;34m()\u001b[0m\n\u001b[0;32m      1\u001b[0m \u001b[1;31m# immutability\u001b[0m\u001b[1;33m\u001b[0m\u001b[1;33m\u001b[0m\u001b[0m\n\u001b[0;32m      2\u001b[0m \u001b[0ma\u001b[0m \u001b[1;33m=\u001b[0m \u001b[1;34m\"abcdef\"\u001b[0m\u001b[1;33m\u001b[0m\u001b[0m\n\u001b[1;32m----> 3\u001b[1;33m \u001b[0ma\u001b[0m\u001b[1;33m[\u001b[0m\u001b[1;36m1\u001b[0m\u001b[1;33m]\u001b[0m \u001b[1;33m=\u001b[0m \u001b[1;34m'B'\u001b[0m\u001b[1;33m\u001b[0m\u001b[0m\n\u001b[0m",
      "\u001b[1;31mTypeError\u001b[0m: 'str' object does not support item assignment"
     ]
    }
   ],
   "source": [
    "# immutability\n",
    "# a = \"abcdef\"\n",
    "a[1] = 'B'"
   ]
  },
  {
   "cell_type": "code",
   "execution_count": 17,
   "metadata": {},
   "outputs": [
    {
     "data": {
      "text/plain": [
       "'aBcdef'"
      ]
     },
     "execution_count": 17,
     "metadata": {},
     "output_type": "execute_result"
    }
   ],
   "source": [
    "# replacing / changing characters\n",
    "neuer_string = a.replace('b', 'B')\n",
    "neuer_string"
   ]
  },
  {
   "cell_type": "code",
   "execution_count": 15,
   "metadata": {},
   "outputs": [
    {
     "data": {
      "text/plain": [
       "'abcdef'"
      ]
     },
     "execution_count": 15,
     "metadata": {},
     "output_type": "execute_result"
    }
   ],
   "source": [
    "a"
   ]
  },
  {
   "cell_type": "code",
   "execution_count": 18,
   "metadata": {},
   "outputs": [
    {
     "name": "stdout",
     "output_type": "stream",
     "text": [
      "3000129191192\n",
      "3000129420120\n"
     ]
    }
   ],
   "source": [
    "print(id(a))\n",
    "print(id(neuer_string))"
   ]
  },
  {
   "cell_type": "markdown",
   "metadata": {},
   "source": [
    "#String Formatting"
   ]
  },
  {
   "cell_type": "code",
   "execution_count": 20,
   "metadata": {},
   "outputs": [
    {
     "name": "stdout",
     "output_type": "stream",
     "text": [
      "Sammy has 10 balloons.\n"
     ]
    }
   ],
   "source": [
    "# usage of the placeholder {}\n",
    "print(\"Sammy has {} balloons.\".format(10))"
   ]
  },
  {
   "cell_type": "code",
   "execution_count": 22,
   "metadata": {},
   "outputs": [
    {
     "name": "stdout",
     "output_type": "stream",
     "text": [
      "x=10 and y=100\n",
      "x=10 and y=100\n"
     ]
    }
   ],
   "source": [
    "x = 10\n",
    "y = 100\n",
    "print(\"x={} and y={}\".format(x, y))\n",
    "print(\"x=\" + str(x) + \" and y=\" + str(y))  # please do not use this anymore"
   ]
  },
  {
   "cell_type": "code",
   "execution_count": 24,
   "metadata": {},
   "outputs": [
    {
     "name": "stdout",
     "output_type": "stream",
     "text": [
      "Sammy the shark has a pet pilot fish!\n",
      "Sammy the pilot fish has a pet shark!\n"
     ]
    }
   ],
   "source": [
    "# formatting with positional arguments\n",
    "print(\"Sammy the {0} has a pet {1}!\".format(\"shark\", \"pilot fish\"))\n",
    "print(\"Sammy the {1} has a pet {0}!\".format(\"shark\", \"pilot fish\"))"
   ]
  },
  {
   "cell_type": "code",
   "execution_count": 32,
   "metadata": {},
   "outputs": [
    {
     "name": "stdout",
     "output_type": "stream",
     "text": [
      "Sammy the shark made a pull request.\n",
      "Sammy the shark made a pull request.\n"
     ]
    }
   ],
   "source": [
    "# positional and named arguments\n",
    "print(\"Sammy the {} {m} a {pr}.\".format(\"shark\", m = \"made\", pr = \"pull request\"))\n",
    "print(\"Sammy the {} {m} a {pr}.\".format(\"shark\", pr = \"pull request\", m = \"made\"))"
   ]
  },
  {
   "cell_type": "code",
   "execution_count": 40,
   "metadata": {},
   "outputs": [
    {
     "name": "stdout",
     "output_type": "stream",
     "text": [
      "Sammy ate 75.000000 percent of a pizza!\n",
      "Sammy ate 75.000000 percent of a pizza!\n",
      "Sammy ate 75 percent of a pizza!\n",
      "Sammy ate 75 percent of a pizza!\n"
     ]
    }
   ],
   "source": [
    "# Type specification\n",
    "\n",
    "print(\"Sammy ate {0:f} percent of a {1}!\".format(75, \"pizza\"))  # float: use :f\n",
    "print(\"Sammy ate {:f} percent of a {}!\".format(75, \"pizza\"))  # float: use :f\n",
    "print(\"Sammy ate {0:d} percent of a {1}!\".format(75, \"pizza\"))  # float: use :d\n",
    "print(\"Sammy ate {:d} percent of a {}!\".format(75, \"pizza\"))  # float: use :d"
   ]
  },
  {
   "cell_type": "code",
   "execution_count": 50,
   "metadata": {},
   "outputs": [
    {
     "name": "stdout",
     "output_type": "stream",
     "text": [
      "Sammy ate 75.765 percent of a pizza!\n",
      "Sammy ate 75.77 percent of a pizza!\n",
      "Sammy ate      75.77 percent of a pizza!\n",
      "Sammy ate     75.77 percent of a pizza!\n",
      "Sammy ate   7500.77 percent of a pizza!\n",
      "Sammy ate 750000000.77 percent of a pizza!\n"
     ]
    }
   ],
   "source": [
    "# conversion (float)\n",
    "print(\"Sammy ate {:.3f} percent of a pizza!\".format(75.765367))  #  :.#f\n",
    "print(\"Sammy ate {:.2f} percent of a pizza!\".format(75.765367))  #  :.#f\n",
    "\n",
    "print(\"Sammy ate {:10.2f} percent of a pizza!\".format(75.765367))  #  :#.#f \n",
    "\n",
    "print(\"Sammy ate {:9.2f} percent of a pizza!\".format(75.765367))  #  :#.#f\n",
    "print(\"Sammy ate {:9.2f} percent of a pizza!\".format(7500.765367))  #  :#.#f\n",
    "print(\"Sammy ate {:9.2f} percent of a pizza!\".format(750000000.765367))  #  :#.#f"
   ]
  },
  {
   "cell_type": "code",
   "execution_count": 61,
   "metadata": {},
   "outputs": [
    {
     "name": "stdout",
     "output_type": "stream",
     "text": [
      "Sammy ate 75 percent of a pizza!\n",
      "Sammy ate 75 percent of a pizza!\n"
     ]
    }
   ],
   "source": [
    "# conversion (decimal)\n",
    "print(\"Sammy ate {:.0f} percent of a pizza!\".format(75.27272))\n",
    "print(\"Sammy ate {:d} percent of a pizza!\".format(75))"
   ]
  },
  {
   "cell_type": "code",
   "execution_count": 66,
   "metadata": {},
   "outputs": [
    {
     "name": "stdout",
     "output_type": "stream",
     "text": [
      "Sammy has    5 red balloons        !\n",
      "Sammy has    5 red balloons        !\n"
     ]
    }
   ],
   "source": [
    "# padding\n",
    "print(\"Sammy has {0:4} red {1:16}!\".format(5, \"balloons\"))\n",
    "print(\"Sammy has {0:4.0f} red {1:16}!\".format(5, \"balloons\"))"
   ]
  }
 ],
 "metadata": {
  "kernelspec": {
   "display_name": "Python 3",
   "language": "python",
   "name": "python3"
  },
  "language_info": {
   "codemirror_mode": {
    "name": "ipython",
    "version": 3
   },
   "file_extension": ".py",
   "mimetype": "text/x-python",
   "name": "python",
   "nbconvert_exporter": "python",
   "pygments_lexer": "ipython3",
   "version": "3.6.1"
  }
 },
 "nbformat": 4,
 "nbformat_minor": 2
}
