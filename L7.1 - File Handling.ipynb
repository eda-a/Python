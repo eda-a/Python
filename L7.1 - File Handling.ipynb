{
 "cells": [
  {
   "cell_type": "code",
   "execution_count": 9,
   "metadata": {},
   "outputs": [],
   "source": [
    "# open a file with write-access\n",
    "\n",
    "f = open('workfile.txt', 'w')  # write access ('w')\n",
    "\n",
    "f.write('Hello HS LU\\nThis is an example')\n",
    "f.close()"
   ]
  },
  {
   "cell_type": "code",
   "execution_count": 10,
   "metadata": {},
   "outputs": [
    {
     "name": "stdout",
     "output_type": "stream",
     "text": [
      "Hello HS LU\n",
      "This is an example\n"
     ]
    }
   ],
   "source": [
    "# open a file with read-access\n",
    "\n",
    "f = open('workfile.txt', 'r')  # read access ('r')\n",
    "\n",
    "# read complete file contents into a string variable\n",
    "s = f.read()\n",
    "print(s)\n",
    "f.close()"
   ]
  },
  {
   "cell_type": "code",
   "execution_count": 13,
   "metadata": {},
   "outputs": [
    {
     "name": "stdout",
     "output_type": "stream",
     "text": [
      "0: Hello HS LU\n",
      "\n",
      "1: This is an example\n"
     ]
    }
   ],
   "source": [
    "# open a file with read-access\n",
    "\n",
    "f = open('workfile.txt', 'r')  # read access ('r')\n",
    "\n",
    "counter = 0\n",
    "# read file contents line-by-line\n",
    "for line in f:\n",
    "    print(\"{}: {}\".format(counter, line))\n",
    "    counter += 1\n",
    "          \n",
    "f.close()"
   ]
  },
  {
   "cell_type": "code",
   "execution_count": 14,
   "metadata": {},
   "outputs": [
    {
     "name": "stdout",
     "output_type": "stream",
     "text": [
      "0: Hello HS LU\n",
      "\n",
      "1: This is an example\n"
     ]
    }
   ],
   "source": [
    "# open a file with read-access (alternative)\n",
    "\n",
    "f = open('workfile.txt', 'r')  # read access ('r')\n",
    "\n",
    "# read file contents line-by-line\n",
    "for counter, line in enumerate(f):\n",
    "    print(\"{}: {}\".format(counter, line))\n",
    "          \n",
    "f.close()"
   ]
  }
 ],
 "metadata": {
  "kernelspec": {
   "display_name": "Python 3",
   "language": "python",
   "name": "python3"
  },
  "language_info": {
   "codemirror_mode": {
    "name": "ipython",
    "version": 3
   },
   "file_extension": ".py",
   "mimetype": "text/x-python",
   "name": "python",
   "nbconvert_exporter": "python",
   "pygments_lexer": "ipython3",
   "version": "3.6.1"
  }
 },
 "nbformat": 4,
 "nbformat_minor": 2
}
