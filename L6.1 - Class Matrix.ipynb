{
 "cells": [
  {
   "cell_type": "code",
   "execution_count": 111,
   "metadata": {},
   "outputs": [],
   "source": [
    "class MatrixError (ValueError):\n",
    "    pass\n",
    "\n",
    "class Matrix:\n",
    "    \"\"\" Matrix Klasse \"\"\"\n",
    "    \n",
    "    def __init__(self, m, n, init=True):\n",
    "        self.m = m\n",
    "        self.n = n\n",
    "        \n",
    "        if init:\n",
    "            # initialize matrix with zero values\n",
    "            self.rows = [[0 for i in range(n)] for i in range(m)]\n",
    "            # alternative\n",
    "            self.rows = [[0]*n for x in range(m)]\n",
    "            \n",
    "    def __str__(self):\n",
    "        # alternative\n",
    "        s = '\\n'.join([' '.join([str(col) for col in row]) for row in self.rows])\n",
    "        \n",
    "        s = \"\"\n",
    "        for row in range(self.m):\n",
    "            for column in range(self.n):\n",
    "                s += \"{} \".format(self.rows[row][column])\n",
    "            s += \"\\n\"\n",
    "        return s\n",
    "    \n",
    "  \n",
    "    \n",
    "    @classmethod\n",
    "    def fromList(cls, lol):\n",
    "        \"\"\" Create a matrix object using the provided list lol \"\"\"\n",
    "\n",
    "        m = len(lol)\n",
    "        n = len(lol[0])\n",
    "        \n",
    "        matrix = cls(m, n)\n",
    "\n",
    "        # check if row lengths are consistent (see below)\n",
    "        if any([len(row) != n for row in lol]):\n",
    "            raise MatrixError(\"inconsistent row length\")\n",
    "        \n",
    "        # explicit implementation\n",
    "        #iterate = 0\n",
    "        #for l in lol:\n",
    "        #    matrix.rows[iterate] = l\n",
    "        #    iterate +=1\n",
    "        \n",
    "        # implicit implementation (matrix uses internally the same format as lol)\n",
    "        matrix.rows = lol\n",
    "\n",
    "        return matrix\n",
    "    \n",
    "    def getRank(self):\n",
    "        return (self.m, self.n)\n",
    "    \n",
    "    def transpose(self):\n",
    "        \"\"\" transpose the matrix in-place \"\"\"\n",
    "        # change dimensions\n",
    "        self.m, self.n = self.n, self.m\n",
    "        \n",
    "        # create internal representation of the matrix with new dimensions (initialized with 0)\n",
    "        transposed_rows = [[0 for col in range(self.n)] for row in range(self.m)]\n",
    "        \n",
    "        for old_row_idx, old_row in enumerate (self.rows):\n",
    "            for old_col_idx, old_col in enumerate(old_row):\n",
    "                transposed_rows[old_col_idx][old_row_idx] = old_col\n",
    "                \n",
    "        self.rows = transposed_rows.copy()\n",
    "        \n",
    "        # Alternative - not covered here\n",
    "        #self.rows = [list(item) for item in zip(*self.rows)]\n",
    "        \n",
    "    \n",
    "    def __getitem__(self, idx):\n",
    "        \"\"\" return row at index idx \"\"\"\n",
    "        return self.rows[idx]\n",
    "    \n",
    "    def __setitem__(self, idx, value):\n",
    "        \"\"\" return row at index idx \"\"\"\n",
    "        self.rows[idx] = value\n",
    "    \n",
    "    def __add__(self, mat):\n",
    "        \"\"\" Add a matrix to this matrix and\n",
    "        return the new matrix. Doesn't modify\n",
    "        the current matrix \"\"\"\n",
    "        \n",
    "        if self.getRank() != mat.getRank():\n",
    "            raise MatrixError(\"Trying to add matrixes of varying rank!\")\n",
    "            \n",
    "        ret = Matrix(self.m, self.n)\n",
    "        \n",
    "        for x in range(self.m):\n",
    "            summed_row = [sum(item) for item in zip(self.rows[x], mat[x])]\n",
    "            ret[x] = summed_row\n",
    "\n",
    "        return ret\n",
    "    \n",
    "    def __eq__(self, mat):\n",
    "        \"\"\" Test equality \"\"\"\n",
    "\n",
    "        return (mat.rows == self.rows)\n",
    "    \n",
    "    \n",
    "    def __iadd__(self, mat):\n",
    "        \"\"\" Add a matrix to this matrix.\n",
    "        This modifies the current matrix \"\"\"\n",
    "\n",
    "        # Calls __add__\n",
    "        tempmat = self + mat\n",
    "        self.rows = tempmat.rows.copy()\n",
    "        return self\n",
    "    \n",
    "    def __sub__(self, mat):\n",
    "        \"\"\" Subtract a matrix from this matrix and\n",
    "        return the new matrix. Doesn't modify\n",
    "        the current matrix \"\"\"\n",
    "        \n",
    "        if self.getRank() != mat.getRank():\n",
    "            raise MatrixError(\"Trying to add matrixes of varying rank!\")\n",
    "\n",
    "        ret = Matrix(self.m, self.n)\n",
    "\n",
    "        for x in range(self.m):\n",
    "            row = [item[0]-item[1] for item in zip(self.rows[x], mat[x])]\n",
    "            ret[x] = row\n",
    "\n",
    "        return ret\n",
    "    \n",
    "    def __isub__(self, mat):\n",
    "        \"\"\" Add a matrix to this matrix.\n",
    "        This modifies the current matrix \"\"\"\n",
    "\n",
    "        # Calls __sub__\n",
    "        tempmat = self - mat\n",
    "        self.rows = tempmat.rows.copy() \n",
    "        return self\n",
    "        \n"
   ]
  },
  {
   "cell_type": "code",
   "execution_count": 112,
   "metadata": {},
   "outputs": [
    {
     "name": "stdout",
     "output_type": "stream",
     "text": [
      "0 0 0 \n",
      "0 0 0 \n",
      "\n"
     ]
    }
   ],
   "source": [
    "mat1 = Matrix(2, 3)\n",
    "print(m)"
   ]
  },
  {
   "cell_type": "code",
   "execution_count": 113,
   "metadata": {},
   "outputs": [
    {
     "name": "stdout",
     "output_type": "stream",
     "text": [
      "1 2 3 \n",
      "4 5 6 \n",
      "\n"
     ]
    }
   ],
   "source": [
    "mat2 = Matrix.fromList([[1,2,3], [4,5,6]])\n",
    "print(mat2)"
   ]
  },
  {
   "cell_type": "code",
   "execution_count": 114,
   "metadata": {},
   "outputs": [
    {
     "name": "stdout",
     "output_type": "stream",
     "text": [
      "inconsistent row length\n"
     ]
    }
   ],
   "source": [
    "# try to generate inconsistent matrix\n",
    "try:\n",
    "    mat3 = Matrix.fromList([[1,2,3,4], [5,6]])\n",
    "except MatrixError as e:\n",
    "    print(e)"
   ]
  },
  {
   "cell_type": "code",
   "execution_count": 115,
   "metadata": {},
   "outputs": [
    {
     "name": "stdout",
     "output_type": "stream",
     "text": [
      "(2, 3)\n",
      "<class 'tuple'>\n"
     ]
    }
   ],
   "source": [
    "print(mat1.getRank())\n",
    "print(type(mat1.getRank()))"
   ]
  },
  {
   "cell_type": "code",
   "execution_count": 116,
   "metadata": {},
   "outputs": [
    {
     "name": "stdout",
     "output_type": "stream",
     "text": [
      "before transpose\n",
      "1 2 3 4 \n",
      "5 6 7 8 \n",
      "\n",
      "after transpose\n",
      "1 5 \n",
      "2 6 \n",
      "3 7 \n",
      "4 8 \n",
      "\n"
     ]
    }
   ],
   "source": [
    "mat4 = Matrix.fromList([[1,2,3,4], [5,6,7,8]])\n",
    "print(\"before transpose\")\n",
    "print(mat4)\n",
    "mat4.transpose()\n",
    "print(\"after transpose\")\n",
    "print(mat4)"
   ]
  },
  {
   "cell_type": "code",
   "execution_count": 117,
   "metadata": {},
   "outputs": [
    {
     "name": "stdout",
     "output_type": "stream",
     "text": [
      "10 12 14 16 \n",
      "18 20 22 24 \n",
      "\n"
     ]
    }
   ],
   "source": [
    "mat5 = Matrix.fromList([[1,2,3,4], [5,6,7,8]])\n",
    "mat6 = Matrix.fromList([[9,10,11,12], [13,14,15,16]])\n",
    "mat5[0]\n",
    "print(str(mat5 + mat6))"
   ]
  },
  {
   "cell_type": "code",
   "execution_count": 119,
   "metadata": {},
   "outputs": [
    {
     "name": "stdout",
     "output_type": "stream",
     "text": [
      "2513152160992\n",
      "10 12 14 16 \n",
      "18 20 22 24 \n",
      "\n",
      "2513152160992\n"
     ]
    }
   ],
   "source": [
    "mat7 = Matrix.fromList([[1,2,3,4], [5,6,7,8]])\n",
    "mat8 = Matrix.fromList([[9,10,11,12], [13,14,15,16]])\n",
    "\n",
    "# be careful with the object ids - += manipulates the first object in place\n",
    "print(id(mat7))\n",
    "mat7 += mat8\n",
    "print(str(mat7))\n",
    "print(id(mat7))"
   ]
  },
  {
   "cell_type": "code",
   "execution_count": null,
   "metadata": {
    "collapsed": true
   },
   "outputs": [],
   "source": []
  },
  {
   "cell_type": "code",
   "execution_count": 120,
   "metadata": {},
   "outputs": [
    {
     "name": "stdout",
     "output_type": "stream",
     "text": [
      "[0, 0, 0, 0, 0, 0, 0, 0, 0, 0]\n",
      "[0, 0, 0, 0, 0, 0, 0, 0, 0, 0]\n"
     ]
    }
   ],
   "source": [
    "# list generation alternatives \n",
    "print([0]*10)\n",
    "print([0 for i in range(10)])"
   ]
  },
  {
   "cell_type": "code",
   "execution_count": 121,
   "metadata": {},
   "outputs": [
    {
     "name": "stdout",
     "output_type": "stream",
     "text": [
      "1 - 1 - 1 - 1 - 1 - 1 - 1 - 1 - 1 - 1 - \n",
      "1 - 1 - 1 - 1 - 1 - 1 - 1 - 1 - 1 - 1\n"
     ]
    }
   ],
   "source": [
    "# joining lists to strings\n",
    "list1 = [1]*10\n",
    "\n",
    "s = \"\"\n",
    "for el in list1:\n",
    "    s += \"{} - \".format(el)\n",
    "    \n",
    "print(s)\n",
    "\n",
    "# alternative\n",
    "print(\" - \".join([str(el) for el in list1]))"
   ]
  },
  {
   "cell_type": "code",
   "execution_count": 122,
   "metadata": {},
   "outputs": [
    {
     "name": "stdout",
     "output_type": "stream",
     "text": [
      "True\n",
      "False\n",
      "True\n"
     ]
    }
   ],
   "source": [
    "# checking conditions on list elements with any and all\n",
    "list2 = [1, 1, 2, 1, 4]\n",
    "\n",
    "print(any([el > 1 for el in list2]))\n",
    "print(any([el > 10 for el in list2]))\n",
    "print(all([el < 10 for el in list2]))"
   ]
  },
  {
   "cell_type": "code",
   "execution_count": 123,
   "metadata": {},
   "outputs": [
    {
     "name": "stdout",
     "output_type": "stream",
     "text": [
      "3\n",
      "[False, True]\n",
      "True\n"
     ]
    }
   ],
   "source": [
    "# checking conditions on two-dimensional lists with any and all\n",
    "lol = [[1,2,3], [4,6]]\n",
    "n = len(lol[0])\n",
    "print(n)\n",
    "print([len(row) != n for row in lol])\n",
    "print(any([len(row) != n for row in lol]))  # is there a row which does not have the same length as the first row"
   ]
  },
  {
   "cell_type": "code",
   "execution_count": 124,
   "metadata": {},
   "outputs": [
    {
     "name": "stdout",
     "output_type": "stream",
     "text": [
      "0: A\n",
      "1: B\n",
      "2: C\n"
     ]
    }
   ],
   "source": [
    "# enumerate\n",
    "list3 = ['A', 'B', 'C']\n",
    "\n",
    "for idx, el in enumerate(list3):\n",
    "    print(\"{}: {}\".format(idx, el))"
   ]
  },
  {
   "cell_type": "code",
   "execution_count": 125,
   "metadata": {},
   "outputs": [
    {
     "name": "stdout",
     "output_type": "stream",
     "text": [
      "[(1, 4), (2, 5), (3, 6)]\n",
      "[(1, 4), (2, 5), (3, 6)]\n"
     ]
    },
    {
     "data": {
      "text/plain": [
       "[5, 7, 9]"
      ]
     },
     "execution_count": 125,
     "metadata": {},
     "output_type": "execute_result"
    }
   ],
   "source": [
    "# zip-function\n",
    "a = [1, 2, 3]\n",
    "b = [4, 5, 6]\n",
    "\n",
    "print(list(zip(a, b)))\n",
    "\n",
    "print([el for el in list(zip(a, b))])\n",
    "\n",
    "[sum(el) for el in list(zip(a, b))]"
   ]
  }
 ],
 "metadata": {
  "kernelspec": {
   "display_name": "Python 3",
   "language": "python",
   "name": "python3"
  },
  "language_info": {
   "codemirror_mode": {
    "name": "ipython",
    "version": 3
   },
   "file_extension": ".py",
   "mimetype": "text/x-python",
   "name": "python",
   "nbconvert_exporter": "python",
   "pygments_lexer": "ipython3",
   "version": "3.6.1"
  }
 },
 "nbformat": 4,
 "nbformat_minor": 2
}
