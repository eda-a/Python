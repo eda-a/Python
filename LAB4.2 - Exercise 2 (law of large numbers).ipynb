{
 "cells": [
  {
   "cell_type": "code",
   "execution_count": 5,
   "metadata": {},
   "outputs": [
    {
     "name": "stdout",
     "output_type": "stream",
     "text": [
      "0.683107\n"
     ]
    }
   ],
   "source": [
    "from numpy.random import randn\n",
    "\n",
    "N=1000000\n",
    "counter = 0\n",
    "\n",
    "for i in randn(N):\n",
    "    if(i>=-1 and i<=1):\n",
    "        counter += 1\n",
    "        \n",
    "print(counter/N)"
   ]
  },
  {
   "cell_type": "code",
   "execution_count": 10,
   "metadata": {},
   "outputs": [
    {
     "name": "stdout",
     "output_type": "stream",
     "text": [
      "0.68325\n"
     ]
    }
   ],
   "source": [
    "import numpy as np\n",
    "\n",
    "N = 100000\n",
    "\n",
    "m = 0  # mean\n",
    "std = 1  # standard deviation\n",
    "\n",
    "a = np.random.normal(m, std, N)\n",
    "\n",
    "b = [var for var in a if var<1 and var>-1]\n",
    "\n",
    "print(len(b)/N)\n"
   ]
  }
 ],
 "metadata": {
  "kernelspec": {
   "display_name": "Python 3",
   "language": "python",
   "name": "python3"
  },
  "language_info": {
   "codemirror_mode": {
    "name": "ipython",
    "version": 3
   },
   "file_extension": ".py",
   "mimetype": "text/x-python",
   "name": "python",
   "nbconvert_exporter": "python",
   "pygments_lexer": "ipython3",
   "version": "3.6.1"
  }
 },
 "nbformat": 4,
 "nbformat_minor": 2
}
